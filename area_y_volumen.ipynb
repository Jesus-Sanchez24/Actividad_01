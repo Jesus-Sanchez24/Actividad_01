{
  "nbformat": 4,
  "nbformat_minor": 0,
  "metadata": {
    "colab": {
      "name": "area y volumen",
      "provenance": []
    },
    "kernelspec": {
      "name": "python3",
      "display_name": "Python 3"
    }
  },
  "cells": [
    {
      "cell_type": "code",
      "metadata": {
        "id": "0rpiZ70BjgZS",
        "outputId": "f381e529-c1b2-4478-dd4e-3c721c85b7fa",
        "colab": {
          "base_uri": "https://localhost:8080/"
        }
      },
      "source": [
        "pi= 3.1416\n",
        "r= float (input(\"escriba el radio del circulo: \"))\n",
        "area= pi*r**2\n",
        "print(\"el area del circulo es:\",area)\n",
        "h= float (input(\"introduzca el valor de la altura del cilindro: \"))\n",
        "volumen= area*h\n",
        "print(\"El volumen del cilindro es: \",volumen)"
      ],
      "execution_count": 96,
      "outputs": [
        {
          "output_type": "stream",
          "text": [
            "escriba el radio del circulo: 4\n",
            "el area del circulo es: 50.2656\n",
            "introduzca el valor de la altura del cilindro: 8\n",
            "El volumen del cilindro es:  402.1248\n"
          ],
          "name": "stdout"
        }
      ]
    }
  ]
}