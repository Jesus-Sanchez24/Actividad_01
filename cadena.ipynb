{
  "nbformat": 4,
  "nbformat_minor": 0,
  "metadata": {
    "colab": {
      "name": "cadena",
      "provenance": [],
      "collapsed_sections": []
    },
    "kernelspec": {
      "name": "python3",
      "display_name": "Python 3"
    }
  },
  "cells": [
    {
      "cell_type": "code",
      "metadata": {
        "id": "ZYN7sKB046zy",
        "outputId": "b7658470-ebc1-4a33-fc37-ee83a4c85c4b",
        "colab": {
          "base_uri": "https://localhost:8080/"
        }
      },
      "source": [
        "caracter =input(\"Introduce una frase: \")\n",
        "numero =int(input(\"introduce un numero superior a 0: \"))\n",
        "for a in range(numero):\n",
        "   print(caracter)\n",
        "\n",
        "print(\"fin del programa\")\n"
      ],
      "execution_count": 47,
      "outputs": [
        {
          "output_type": "stream",
          "text": [
            "Introduce una frase: fin\n",
            "introduce un numero superior a 0: 5\n",
            "fin\n",
            "fin\n",
            "fin\n",
            "fin\n",
            "fin\n",
            "fin del programa\n"
          ],
          "name": "stdout"
        }
      ]
    }
  ]
}