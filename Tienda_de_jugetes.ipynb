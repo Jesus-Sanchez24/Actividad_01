{
  "nbformat": 4,
  "nbformat_minor": 0,
  "metadata": {
    "colab": {
      "name": "Tienda de jugetes",
      "provenance": [],
      "collapsed_sections": []
    },
    "kernelspec": {
      "display_name": "Python 3",
      "name": "python3"
    }
  },
  "cells": [
    {
      "cell_type": "code",
      "metadata": {
        "id": "eEDRyeCkEnLj",
        "outputId": "f337b8b4-b2be-4bb1-c08e-37fe6192b353",
        "colab": {
          "base_uri": "https://localhost:8080/"
        }
      },
      "source": [
        "print(\"Peso del payaso: 150gr\")\n",
        "print(\"Peso del juego de mesa: 170gr\")\n",
        "def pedido(juegos, peso_juego, payasos, peso_payaso):\n",
        "  pedido_payaso = payasos * peso_payaso\n",
        "  Pedido_juego = juegos * peso_juego\n",
        "  total_pedido = pedido_payaso + Pedido_juego\n",
        "  if total_pedido < 10000:\n",
        "    print(\"pedido aceptado\")\n",
        "    print(\"El total en gr de su pedido es: \",total_pedido)\n",
        "  else:\n",
        "    print(\"Error\")\n",
        "    exceso = total_pedido - 10000\n",
        "    print(\"El pedido paso el limite por: \",exceso,\"gr\")\n",
        "p = int(input(\"Payasos que decea ordenar: \"))\n",
        "p_p = 150\n",
        "j = int(input(\"Juegos de mesa que decea ordenar: \"))\n",
        "p_j = 170\n",
        "pedido(p, p_p, j, p_j)\n",
        "\n",
        "\n",
        "\n",
        "\n"
      ],
      "execution_count": 11,
      "outputs": [
        {
          "output_type": "stream",
          "text": [
            "Peso del payaso: 150gr\n",
            "Peso del juego de mesa: 170gr\n",
            "Numero de payasos que decea ordenar: 10\n",
            "Numero de juegos de mesa que decea ordenar: 90\n",
            "Error\n",
            "Su pedido se excedio por:  6800 gr\n"
          ],
          "name": "stdout"
        }
      ]
    }
  ]
}