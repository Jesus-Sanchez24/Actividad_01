{
  "nbformat": 4,
  "nbformat_minor": 0,
  "metadata": {
    "colab": {
      "name": "par o impar",
      "provenance": [],
      "collapsed_sections": []
    },
    "kernelspec": {
      "name": "python3",
      "display_name": "Python 3"
    }
  },
  "cells": [
    {
      "cell_type": "code",
      "metadata": {
        "id": "ZYN7sKB046zy",
        "outputId": "647923ec-c4ef-4f22-fad4-cc6a76ac04be",
        "colab": {
          "base_uri": "https://localhost:8080/"
        }
      },
      "source": [
        "a = float(input(\"introuzca un numero:\"))\n",
        "if a /2==0:\n",
        "  print(\"el numero es par\")\n",
        "else:\n",
        "    print(\"el numero es impar\")\n",
        "\n",
        "    print(\"fin del programa\")"
      ],
      "execution_count": 37,
      "outputs": [
        {
          "output_type": "stream",
          "text": [
            "introuzca un numero:21\n",
            "el numero es impar\n",
            "fin del programa\n"
          ],
          "name": "stdout"
        }
      ]
    }
  ]
}