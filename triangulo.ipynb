{
  "nbformat": 4,
  "nbformat_minor": 0,
  "metadata": {
    "colab": {
      "name": "triangulo",
      "provenance": []
    },
    "kernelspec": {
      "name": "python3",
      "display_name": "Python 3"
    }
  },
  "cells": [
    {
      "cell_type": "code",
      "metadata": {
        "id": "0rpiZ70BjgZS",
        "outputId": "3e75d325-4c5a-4988-d638-034262ecaedb",
        "colab": {
          "base_uri": "https://localhost:8080/"
        }
      },
      "source": [
        "n = int (input(\"introduce un numero entero: \"))\n",
        "for a in range(n):\n",
        "  print(\"*\"*(a+1))\n",
        "print(\"fin del programa\")\n"
      ],
      "execution_count": 73,
      "outputs": [
        {
          "output_type": "stream",
          "text": [
            "introduce un numero entero: 10\n",
            "*\n",
            "**\n",
            "***\n",
            "****\n",
            "*****\n",
            "******\n",
            "*******\n",
            "********\n",
            "*********\n",
            "**********\n",
            "fin del programa\n"
          ],
          "name": "stdout"
        }
      ]
    }
  ]
}