{
  "nbformat": 4,
  "nbformat_minor": 0,
  "metadata": {
    "colab": {
      "name": "Factorial",
      "provenance": []
    },
    "kernelspec": {
      "name": "python3",
      "display_name": "Python 3"
    }
  },
  "cells": [
    {
      "cell_type": "code",
      "metadata": {
        "id": "0rpiZ70BjgZS",
        "outputId": "0847b92f-e8f0-4973-b85f-4d60cc6583a5",
        "colab": {
          "base_uri": "https://localhost:8080/"
        }
      },
      "source": [
        "import math \n",
        "n= input(\"introduce un valor positivo: \")\n",
        "x=int (n)\n",
        "factorial= math.factorial (x)\n",
        "print(\"el factorial es: \",factorial)"
      ],
      "execution_count": 95,
      "outputs": [
        {
          "output_type": "stream",
          "text": [
            "introduce un valor positivo: 3\n",
            "el factorial es:  6\n"
          ],
          "name": "stdout"
        }
      ]
    }
  ]
}