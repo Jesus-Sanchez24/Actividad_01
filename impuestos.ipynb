{
  "nbformat": 4,
  "nbformat_minor": 0,
  "metadata": {
    "colab": {
      "name": "impuestos",
      "provenance": [],
      "collapsed_sections": []
    },
    "kernelspec": {
      "display_name": "Python 3",
      "name": "python3"
    }
  },
  "cells": [
    {
      "cell_type": "code",
      "metadata": {
        "id": "PTn2GC_kOz4I",
        "outputId": "483b4c54-425a-40a4-b877-76beeacb4526",
        "colab": {
          "base_uri": "https://localhost:8080/"
        }
      },
      "source": [
        "def impuesto(x):\n",
        "  if salario < 10000:\n",
        "    print(\"Le corresponde un descuento del 5%\")\n",
        "    descuento = salario * 0.05  \n",
        "    salario1 = salario - descuento\n",
        "    print(\"Salario con descuento es: \",salario1)\n",
        "  elif 10000 <= salario < 15000:\n",
        "    print(\"Le corresponde un descuento del 10%\")\n",
        "    descuento = salario * 0.10  \n",
        "    salario2 = salario - descuento\n",
        "    print(\"Salario con descuento es: \",salario2) \n",
        "  elif 15000 <= salario < 20000:\n",
        "    print(\"Le corresponde un descuento del 15%\")\n",
        "    descuento = salario * 0.15  \n",
        "    salario3 = salario - descuento\n",
        "    print(\"Salario con descuento es: \",salario3)\n",
        "  elif salario > 20000:\n",
        "    print(\"Le corresponde un descuento del 20%\")\n",
        "    descuento = salario * 0.20  \n",
        "    salario4 = salario - descuento\n",
        "    print(\"Salario con descuento es: \",salario4)    \n",
        "  else:\n",
        "     print(\"Error\") \n",
        "salario = float(input(\"ingrese su salario: \"))\n",
        "\n",
        "impuesto(salario)\n",
        "\n"
      ],
      "execution_count": 5,
      "outputs": [
        {
          "output_type": "stream",
          "text": [
            "ingrese su salario: 20000\n",
            "Error\n"
          ],
          "name": "stdout"
        }
      ]
    }
  ]
}