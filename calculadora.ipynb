{
  "nbformat": 4,
  "nbformat_minor": 0,
  "metadata": {
    "colab": {
      "name": "calculadora",
      "provenance": []
    },
    "kernelspec": {
      "name": "python3",
      "display_name": "Python 3"
    }
  },
  "cells": [
    {
      "cell_type": "code",
      "metadata": {
        "id": "0rpiZ70BjgZS",
        "outputId": "bb53a21e-130d-4683-c277-a768c677ef09",
        "colab": {
          "base_uri": "https://localhost:8080/"
        }
      },
      "source": [
        "print(\"1. SUMA\")\n",
        "print(\"2. RESTA\")\n",
        "print(\"3. MULTIPLICACION\")\n",
        "print(\"4. DIVISION\")\n",
        "opcion = int (input(\"introduzca una opcion: \"))\n",
        "if opcion==1:\n",
        "  print(\"Suma\")\n",
        "  a= float (input(\"introduzca el primer numero: \"))\n",
        "  b= float (input(\"introduzca el segundo numero: \"))\n",
        "  suma= a+b\n",
        "  print(\"el resultado es: \",suma)\n",
        "elif opcion==2:\n",
        "  print(\"Resta\")\n",
        "  a= float (input(\"introduzca el primer numero: \"))\n",
        "  b= float (input(\"introduzca el segundo numero: \"))\n",
        "  resta= a-b\n",
        "  print(\"el resultado es: \",resta)\n",
        "elif opcion==3:\n",
        "  print(\"Multiplicacion\")\n",
        "  a= float (input(\"introduzca el primer numero: \"))\n",
        "  b= float (input(\"introduzca el segundo numero: \"))\n",
        "  mult= a*b\n",
        "  print(\"el resultado es: \",mult)\n",
        "elif opcion==4:\n",
        "  print(\"Division\")\n",
        "  a= float (input(\"introduzca el primer numero: \"))\n",
        "  b= float (input(\"introduzca el segundo numero: \"))\n",
        "  while (b==0):\n",
        "    b= float (input(\"introduzca el valor nuevamente:\"))\n",
        "  division= a/b\n",
        "  print(\"el resultado es: \",division)\n",
        "else:\n",
        "  print(\"numero invalido\")\n"
      ],
      "execution_count": 59,
      "outputs": [
        {
          "output_type": "stream",
          "text": [
            "1. SUMA\n",
            "2. RESTA\n",
            "3. MULTIPLICACION\n",
            "4. DIVISION\n",
            "introduzca una opcion: 4\n",
            "Division\n",
            "introduzca el primer numero: 5\n",
            "introduzca el segundo numero: 0\n",
            "introduzca el valor nuevamente:0\n",
            "introduzca el valor nuevamente:0\n",
            "introduzca el valor nuevamente:5\n",
            "el resultado es:  1.0\n"
          ],
          "name": "stdout"
        }
      ]
    }
  ]
}