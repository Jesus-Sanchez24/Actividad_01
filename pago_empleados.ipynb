{
  "nbformat": 4,
  "nbformat_minor": 0,
  "metadata": {
    "colab": {
      "name": "pago empleados",
      "provenance": []
    },
    "kernelspec": {
      "name": "python3",
      "display_name": "Python 3"
    }
  },
  "cells": [
    {
      "cell_type": "code",
      "metadata": {
        "id": "0rpiZ70BjgZS",
        "outputId": "e103622a-1f99-4871-b595-b24c21d1b1a6",
        "colab": {
          "base_uri": "https://localhost:8080/"
        }
      },
      "source": [
        "def pago(horas,pagohora=150):\n",
        " \n",
        "  dia=horas*pagohora\n",
        "  semana=dia*5\n",
        "  mes=dia*20\n",
        "  print(\"El pago del dia es: \", dia)\n",
        "  print(\"El pago de la semana es: \", semana)\n",
        "  print(\"El pago del mes es: \", mes)\n",
        "\n",
        "horas=float (input(\"Introdusca las horas del empleado:\"))\n",
        "pago(horas, pagohora)"
      ],
      "execution_count": 34,
      "outputs": [
        {
          "output_type": "stream",
          "text": [
            "Introdusca las horas del empleado:1\n",
            "El pago del dia es:  150.0\n",
            "El pago de la semana es:  750.0\n",
            "El pago del mes es:  3000.0\n"
          ],
          "name": "stdout"
        }
      ]
    }
  ]
}