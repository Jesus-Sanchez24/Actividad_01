{
  "nbformat": 4,
  "nbformat_minor": 0,
  "metadata": {
    "colab": {
      "name": "museo",
      "provenance": [],
      "collapsed_sections": []
    },
    "kernelspec": {
      "display_name": "Python 3",
      "name": "python3"
    }
  },
  "cells": [
    {
      "cell_type": "code",
      "metadata": {
        "id": "hZQtvFskwkRx",
        "outputId": "4c6e8b34-71af-4602-c3ca-26b34655178b",
        "colab": {
          "base_uri": "https://localhost:8080/"
        }
      },
      "source": [
        "print(\"MUSEO\")\n",
        "print(\"Costos\")\n",
        "print(\"1. Menor de 4 años\")\n",
        "print(\"2. Entre 4 y 16 años\")\n",
        "print(\"3. Adultos\")\n",
        "\n",
        "costos = int(input(\"Introduzaca una opcion: \"))\n",
        "\n",
        "if(costos==1):\n",
        "  print(\"La entrada es gratis\")\n",
        "  x = 0\n",
        "elif(costos==2):\n",
        "  print(\"La entrada le cuesta $50\")\n",
        "  x = 50\n",
        "elif(costos==3):\n",
        "  print(\"La entrada le cuesta $100\")\n",
        "  x = 100\n",
        "else:\n",
        "  print(\"Opcion invalida\") \n",
        "\n",
        "print(\"Descuentos\")\n",
        "print(\"1. Estudiante con credencial 10%\")\n",
        "print(\"2. Docente con credencial 30%\")\n",
        "print(\"3. INAPAM 50%\")\n",
        "\n",
        "descuentos = int(input(\"Introdusca una opcion: \"))\n",
        "y = 0\n",
        "if (descuentos==1):\n",
        "    print(\"Aplica un descuento del 10%\")\n",
        "    y= (x*0.10)\n",
        "elif (descuentos==2): \n",
        "    print(\"Aplica un descuento del 30%\")\n",
        "    y= (x*0.30)\n",
        "elif (descuentos==3):\n",
        "    print(\"Aplica un descuento del 50%\")\n",
        "    y= (x*0.50)\n",
        "\n",
        "z= (x-y)\n",
        "print(\"El total a pagar: \", z)\n",
        "\n",
        "\n"
      ],
      "execution_count": 2,
      "outputs": [
        {
          "output_type": "stream",
          "text": [
            "MUSEO\n",
            "Costos\n",
            "1. Menor de 4 años\n",
            "2. Entre 4 y 16 años\n",
            "3. Adultos\n",
            "Introduzaca una opcion: 3\n",
            "La entrada le cuesta $100\n",
            "Descuentos\n",
            "1. Estudiante con credencial 10%\n",
            "2. Docente con credencial 30%\n",
            "3. INAPAM 50%\n",
            "Introdusca una opcion: 4\n",
            "El total a pagar:  100\n"
          ],
          "name": "stdout"
        }
      ]
    }
  ]
}